{
 "cells": [
  {
   "cell_type": "code",
   "execution_count": 1,
   "metadata": {},
   "outputs": [],
   "source": [
    "import pandas as pd\n",
    "import demjson3 as dem3\n",
    "import json\n",
    "from pandas import json_normalize"
   ]
  },
  {
   "cell_type": "code",
   "execution_count": 26,
   "metadata": {},
   "outputs": [],
   "source": [
    "df_original=pd.read_json ('train_products.json')"
   ]
  },
  {
   "cell_type": "code",
   "execution_count": 30,
   "metadata": {},
   "outputs": [
    {
     "data": {
      "text/plain": [
       "(28, 20835)"
      ]
     },
     "execution_count": 30,
     "metadata": {},
     "output_type": "execute_result"
    }
   ],
   "source": [
    "df_original.shape\n"
   ]
  },
  {
   "cell_type": "code",
   "execution_count": 28,
   "metadata": {},
   "outputs": [
    {
     "data": {
      "text/plain": [
       "name                                                                                      Pommes duchesse\n",
       "brand                                                                  Pom lisse,Pom'Lisse, Marque Repère\n",
       "generic_name                                                                                      unknown\n",
       "categories_hierarchy                                    [en:frozen-foods, en:frozen-fried-potatoes, en...\n",
       "is_beverage                                                                                             0\n",
       "selling_countries                                                                             [en:france]\n",
       "ingredient_origins                                                                    {'en:unknown': 100}\n",
       "ingredients                                             [{'id': 'en:potato', 'percent': 82, 'percent_e...\n",
       "additives_count                                                                                         1\n",
       "calcium_100g                                                                                      unknown\n",
       "carbohydrates_100g                                                                                     21\n",
       "energy_kcal_100g                                                                                  unknown\n",
       "fat_100g                                                                                              7.1\n",
       "fiber_100g                                                                                            2.2\n",
       "proteins_100g                                                                                         2.2\n",
       "salt_100g                                                                                             0.7\n",
       "sodium_100g                                                                                          0.28\n",
       "sugars_100g                                                                                           0.5\n",
       "nutrition_grade                                                                                         b\n",
       "packaging_materials                                                                          [en:plastic]\n",
       "non_recyclable_and_non_biodegradable_materials_count                                                    1\n",
       "est_co2_agriculture                                                                              1.405794\n",
       "est_co2_consumption                                                                              0.122097\n",
       "est_co2_distribution                                                                             0.151978\n",
       "est_co2_packaging                                                                                0.400866\n",
       "est_co2_processing                                                                                 0.1234\n",
       "est_co2_transportation                                                                           0.344651\n",
       "ecoscore_grade                                                                                          2\n",
       "Name: 0, dtype: object"
      ]
     },
     "execution_count": 28,
     "metadata": {},
     "output_type": "execute_result"
    }
   ],
   "source": [
    "df_original[0]"
   ]
  },
  {
   "cell_type": "code",
   "execution_count": 40,
   "metadata": {},
   "outputs": [
    {
     "data": {
      "text/plain": [
       "pandas.core.series.Series"
      ]
     },
     "execution_count": 40,
     "metadata": {},
     "output_type": "execute_result"
    }
   ],
   "source": [
    "type(df_original[0])"
   ]
  },
  {
   "cell_type": "code",
   "execution_count": 41,
   "metadata": {},
   "outputs": [
    {
     "name": "stdout",
     "output_type": "stream",
     "text": [
      "name                                                    <class 'pandas.core.series.Series'>\n",
      "brand                                                   <class 'pandas.core.series.Series'>\n",
      "generic_name                                            <class 'pandas.core.series.Series'>\n",
      "categories_hierarchy                                    <class 'pandas.core.series.Series'>\n",
      "is_beverage                                             <class 'pandas.core.series.Series'>\n",
      "selling_countries                                       <class 'pandas.core.series.Series'>\n",
      "ingredient_origins                                      <class 'pandas.core.series.Series'>\n",
      "ingredients                                             <class 'pandas.core.series.Series'>\n",
      "additives_count                                         <class 'pandas.core.series.Series'>\n",
      "calcium_100g                                            <class 'pandas.core.series.Series'>\n",
      "carbohydrates_100g                                      <class 'pandas.core.series.Series'>\n",
      "energy_kcal_100g                                        <class 'pandas.core.series.Series'>\n",
      "fat_100g                                                <class 'pandas.core.series.Series'>\n",
      "fiber_100g                                              <class 'pandas.core.series.Series'>\n",
      "proteins_100g                                           <class 'pandas.core.series.Series'>\n",
      "salt_100g                                               <class 'pandas.core.series.Series'>\n",
      "sodium_100g                                             <class 'pandas.core.series.Series'>\n",
      "sugars_100g                                             <class 'pandas.core.series.Series'>\n",
      "nutrition_grade                                         <class 'pandas.core.series.Series'>\n",
      "packaging_materials                                     <class 'pandas.core.series.Series'>\n",
      "non_recyclable_and_non_biodegradable_materials_count    <class 'pandas.core.series.Series'>\n",
      "est_co2_agriculture                                     <class 'pandas.core.series.Series'>\n",
      "est_co2_consumption                                     <class 'pandas.core.series.Series'>\n",
      "est_co2_distribution                                    <class 'pandas.core.series.Series'>\n",
      "est_co2_packaging                                       <class 'pandas.core.series.Series'>\n",
      "est_co2_processing                                      <class 'pandas.core.series.Series'>\n",
      "est_co2_transportation                                  <class 'pandas.core.series.Series'>\n",
      "ecoscore_grade                                          <class 'pandas.core.series.Series'>\n",
      "Name: 0, dtype: object\n"
     ]
    }
   ],
   "source": [
    "print(df_original[0])"
   ]
  },
  {
   "cell_type": "code",
   "execution_count": 4,
   "metadata": {},
   "outputs": [],
   "source": [
    "with open('train_products.json') as file:\n",
    "    data = json.load(file)\n"
   ]
  },
  {
   "cell_type": "code",
   "execution_count": 9,
   "metadata": {},
   "outputs": [
    {
     "name": "stdout",
     "output_type": "stream",
     "text": [
      "Nombre: Polvo para preparar bebida sabor fresa\n",
      "Marca: Nestle\n"
     ]
    }
   ],
   "source": [
    "product_0 = data['100']\n",
    "name = product_0['name']\n",
    "brand = product_0['brand']\n",
    "print('Nombre:', name)\n",
    "print('Marca:', brand)"
   ]
  },
  {
   "cell_type": "code",
   "execution_count": 21,
   "metadata": {},
   "outputs": [],
   "source": [
    "\n",
    "\n",
    "# Crea un diccionario con los datos\n",
    "data = {\n",
    "    \"0\": {\n",
    "        \"nombre\": \"Pommes duchesse\",\n",
    "        \"marca\": \"Pom lisse, Pom'Lisse, Marque Repère\",\n",
    "        \"nombre_genérico\": \"desconocido\",\n",
    "        \"categorías_jerarquía\": [\"alimentos-congelados\", \"patatas-fritas-congeladas\", \"patatas-duquesa-cocidas-congeladas\"],\n",
    "        \"es_bebida\": 0,\n",
    "        \"países_venta\": [\"Francia\"],\n",
    "        \"origen_ingredientes\": {\"desconocido\": 100},\n",
    "        \"ingredientes\": [\n",
    "            {\"id\": \"patata\", \"porcentaje\": 82, \"porcentaje_estimado\": 82, \"porcentaje_máx\": 82, \"porcentaje_mín\": 82, \"rango\": 1, \"texto\": \"Pommes de terre\", \"vegano\": \"sí\", \"vegetariano\": \"sí\"},\n",
    "            {\"id\": \"harina-de-arroz\", \"porcentaje_estimado\": 9, \"porcentaje_máx\": 11.2, \"porcentaje_mín\": 6.8, \"rango\": 2, \"texto\": \"harina de arroz\", \"vegano\": \"sí\", \"vegetariano\": \"sí\"},\n",
    "            {\"de_aceite_de_girasol\": \"no\", \"id\": \"aceite-de-girasol\", \"porcentaje\": 6.8, \"porcentaje_estimado\": 6.8, \"porcentaje_máx\": 6.8, \"porcentaje_mín\": 6.8, \"rango\": 3, \"texto\": \"aceite de girasol\", \"vegano\": \"sí\", \"vegetariano\": \"sí\"},\n",
    "            {\"id\": \"patata-en-polvo\", \"porcentaje_estimado\": 1.1, \"porcentaje_máx\": 4.40000000000001, \"porcentaje_mín\": 0, \"rango\": 4, \"texto\": \"patata deshidratada en polvo\", \"vegano\": \"sí\", \"vegetariano\": \"sí\"},\n",
    "            {\"id\": \"sal\", \"porcentaje_estimado\": 0.549999999999997, \"porcentaje_máx\": 3.73333333333334, \"porcentaje_mín\": 0, \"rango\": 5, \"texto\": \"sal\", \"vegano\": \"sí\", \"vegetariano\": \"sí\"},\n",
    "            {\"id\": \"fécula-de-patata\", \"porcentaje_estimado\": 0.274999999999999, \"porcentaje_máx\": 2.8, \"porcentaje_mín\": 0, \"rango\": 6, \"texto\": \"fécula de patata\", \"vegano\": \"sí\", \"vegetariano\": \"sí\"},\n",
    "            {\"id\": \"aromatizante-natural\", \"porcentaje_estimado\": 0.137500000000003, \"porcentaje_máx\": 2.24, \"porcentaje_mín\": 0, \"rango\": 7, \"texto\": \"aromatizante natural\", \"vegano\": \"sí\", \"vegetariano\": \"sí\"},\n",
    "            {\"id\": \"antioxidante\", \"porcentaje_estimado\": 0.00275000000000007, \"porcentaje_máx\": 0.0456000000000007, \"porcentaje_mín\": 0, \"rango\": 8, \"texto\": \"antioxidante\", \"vegano\": \"sí\", \"vegetariano\": \"sí\"}\n",
    "        ],\n",
    "        \"energía_kj\": 581,\n",
    "        \"energía_kcal\": 138,\n",
    "        \"grasas\": 5.9,\n",
    "        \"grasas_saturadas\": 0.6,\n",
    "        \"azúcares\": 1,\n",
    "        \"sal\": 0.55,\n",
    "        \"fibra\": 3.1,\n",
    "        \"proteínas\": 2.2,\n",
    "        \"carbohidratos\": 19,\n",
    "        \"carbohidratos_disponibles\": 18,\n",
    "        \"carbohidratos_azúcares\": 0.9,\n",
    "        \"carbohidratos_fibra\": 3.1\n",
    "    },\n",
    "    # Agrega los datos restantes aquí\n",
    "}\n",
    "\n",
    "# Crea el dataframe a partir del diccionario\n",
    "df = pd.DataFrame.from_dict(data, orient=\"index\")\n",
    "\n"
   ]
  },
  {
   "cell_type": "code",
   "execution_count": 22,
   "metadata": {},
   "outputs": [
    {
     "data": {
      "text/html": [
       "<div>\n",
       "<style scoped>\n",
       "    .dataframe tbody tr th:only-of-type {\n",
       "        vertical-align: middle;\n",
       "    }\n",
       "\n",
       "    .dataframe tbody tr th {\n",
       "        vertical-align: top;\n",
       "    }\n",
       "\n",
       "    .dataframe thead th {\n",
       "        text-align: right;\n",
       "    }\n",
       "</style>\n",
       "<table border=\"1\" class=\"dataframe\">\n",
       "  <thead>\n",
       "    <tr style=\"text-align: right;\">\n",
       "      <th></th>\n",
       "      <th>nombre</th>\n",
       "      <th>marca</th>\n",
       "      <th>nombre_genérico</th>\n",
       "      <th>categorías_jerarquía</th>\n",
       "      <th>es_bebida</th>\n",
       "      <th>países_venta</th>\n",
       "      <th>origen_ingredientes</th>\n",
       "      <th>ingredientes</th>\n",
       "      <th>energía_kj</th>\n",
       "      <th>energía_kcal</th>\n",
       "      <th>grasas</th>\n",
       "      <th>grasas_saturadas</th>\n",
       "      <th>azúcares</th>\n",
       "      <th>sal</th>\n",
       "      <th>fibra</th>\n",
       "      <th>proteínas</th>\n",
       "      <th>carbohidratos</th>\n",
       "      <th>carbohidratos_disponibles</th>\n",
       "      <th>carbohidratos_azúcares</th>\n",
       "      <th>carbohidratos_fibra</th>\n",
       "    </tr>\n",
       "  </thead>\n",
       "  <tbody>\n",
       "    <tr>\n",
       "      <th>0</th>\n",
       "      <td>Pommes duchesse</td>\n",
       "      <td>Pom lisse, Pom'Lisse, Marque Repère</td>\n",
       "      <td>desconocido</td>\n",
       "      <td>[alimentos-congelados, patatas-fritas-congelad...</td>\n",
       "      <td>0</td>\n",
       "      <td>[Francia]</td>\n",
       "      <td>{'desconocido': 100}</td>\n",
       "      <td>[{'id': 'patata', 'porcentaje': 82, 'porcentaj...</td>\n",
       "      <td>581</td>\n",
       "      <td>138</td>\n",
       "      <td>5.9</td>\n",
       "      <td>0.6</td>\n",
       "      <td>1</td>\n",
       "      <td>0.55</td>\n",
       "      <td>3.1</td>\n",
       "      <td>2.2</td>\n",
       "      <td>19</td>\n",
       "      <td>18</td>\n",
       "      <td>0.9</td>\n",
       "      <td>3.1</td>\n",
       "    </tr>\n",
       "  </tbody>\n",
       "</table>\n",
       "</div>"
      ],
      "text/plain": [
       "            nombre                                marca nombre_genérico  \\\n",
       "0  Pommes duchesse  Pom lisse, Pom'Lisse, Marque Repère     desconocido   \n",
       "\n",
       "                                categorías_jerarquía  es_bebida países_venta  \\\n",
       "0  [alimentos-congelados, patatas-fritas-congelad...          0    [Francia]   \n",
       "\n",
       "    origen_ingredientes                                       ingredientes  \\\n",
       "0  {'desconocido': 100}  [{'id': 'patata', 'porcentaje': 82, 'porcentaj...   \n",
       "\n",
       "   energía_kj  energía_kcal  grasas  grasas_saturadas  azúcares   sal  fibra  \\\n",
       "0         581           138     5.9               0.6         1  0.55    3.1   \n",
       "\n",
       "   proteínas  carbohidratos  carbohidratos_disponibles  \\\n",
       "0        2.2             19                         18   \n",
       "\n",
       "   carbohidratos_azúcares  carbohidratos_fibra  \n",
       "0                     0.9                  3.1  "
      ]
     },
     "execution_count": 22,
     "metadata": {},
     "output_type": "execute_result"
    }
   ],
   "source": [
    "\n",
    "# Muestra el dataframe\n",
    "df\n"
   ]
  },
  {
   "cell_type": "code",
   "execution_count": 25,
   "metadata": {},
   "outputs": [
    {
     "data": {
      "text/plain": [
       "[{'id': 'patata',\n",
       "  'porcentaje': 82,\n",
       "  'porcentaje_estimado': 82,\n",
       "  'porcentaje_máx': 82,\n",
       "  'porcentaje_mín': 82,\n",
       "  'rango': 1,\n",
       "  'texto': 'Pommes de terre',\n",
       "  'vegano': 'sí',\n",
       "  'vegetariano': 'sí'},\n",
       " {'id': 'harina-de-arroz',\n",
       "  'porcentaje_estimado': 9,\n",
       "  'porcentaje_máx': 11.2,\n",
       "  'porcentaje_mín': 6.8,\n",
       "  'rango': 2,\n",
       "  'texto': 'harina de arroz',\n",
       "  'vegano': 'sí',\n",
       "  'vegetariano': 'sí'},\n",
       " {'de_aceite_de_girasol': 'no',\n",
       "  'id': 'aceite-de-girasol',\n",
       "  'porcentaje': 6.8,\n",
       "  'porcentaje_estimado': 6.8,\n",
       "  'porcentaje_máx': 6.8,\n",
       "  'porcentaje_mín': 6.8,\n",
       "  'rango': 3,\n",
       "  'texto': 'aceite de girasol',\n",
       "  'vegano': 'sí',\n",
       "  'vegetariano': 'sí'},\n",
       " {'id': 'patata-en-polvo',\n",
       "  'porcentaje_estimado': 1.1,\n",
       "  'porcentaje_máx': 4.40000000000001,\n",
       "  'porcentaje_mín': 0,\n",
       "  'rango': 4,\n",
       "  'texto': 'patata deshidratada en polvo',\n",
       "  'vegano': 'sí',\n",
       "  'vegetariano': 'sí'},\n",
       " {'id': 'sal',\n",
       "  'porcentaje_estimado': 0.549999999999997,\n",
       "  'porcentaje_máx': 3.73333333333334,\n",
       "  'porcentaje_mín': 0,\n",
       "  'rango': 5,\n",
       "  'texto': 'sal',\n",
       "  'vegano': 'sí',\n",
       "  'vegetariano': 'sí'},\n",
       " {'id': 'fécula-de-patata',\n",
       "  'porcentaje_estimado': 0.274999999999999,\n",
       "  'porcentaje_máx': 2.8,\n",
       "  'porcentaje_mín': 0,\n",
       "  'rango': 6,\n",
       "  'texto': 'fécula de patata',\n",
       "  'vegano': 'sí',\n",
       "  'vegetariano': 'sí'},\n",
       " {'id': 'aromatizante-natural',\n",
       "  'porcentaje_estimado': 0.137500000000003,\n",
       "  'porcentaje_máx': 2.24,\n",
       "  'porcentaje_mín': 0,\n",
       "  'rango': 7,\n",
       "  'texto': 'aromatizante natural',\n",
       "  'vegano': 'sí',\n",
       "  'vegetariano': 'sí'},\n",
       " {'id': 'antioxidante',\n",
       "  'porcentaje_estimado': 0.00275000000000007,\n",
       "  'porcentaje_máx': 0.0456000000000007,\n",
       "  'porcentaje_mín': 0,\n",
       "  'rango': 8,\n",
       "  'texto': 'antioxidante',\n",
       "  'vegano': 'sí',\n",
       "  'vegetariano': 'sí'}]"
      ]
     },
     "execution_count": 25,
     "metadata": {},
     "output_type": "execute_result"
    }
   ],
   "source": [
    "df['ingredientes'][0]"
   ]
  },
  {
   "cell_type": "code",
   "execution_count": 15,
   "metadata": {},
   "outputs": [],
   "source": [
    "# Ejemplo de dataframe con una columna de ingredientes\n",
    "data = {\n",
    "    'producto': ['Producto A', 'Producto B', 'Producto C'],\n",
    "    'ingredientes': ['patata, harina de arroz, aceite de girasol',\n",
    "                     'agua, azúcar, colorante artificial, saborizante',\n",
    "                     'harina de trigo, sal, levadura, agua']\n",
    "}\n",
    "\n",
    "df1 = pd.DataFrame(data)\n",
    "\n",
    "# Convertir la columna de ingredientes en una lista de textos\n",
    "df1['ingredientes'] = df1['ingredientes'].str.split(', ')"
   ]
  },
  {
   "cell_type": "code",
   "execution_count": 16,
   "metadata": {},
   "outputs": [
    {
     "data": {
      "text/html": [
       "<div>\n",
       "<style scoped>\n",
       "    .dataframe tbody tr th:only-of-type {\n",
       "        vertical-align: middle;\n",
       "    }\n",
       "\n",
       "    .dataframe tbody tr th {\n",
       "        vertical-align: top;\n",
       "    }\n",
       "\n",
       "    .dataframe thead th {\n",
       "        text-align: right;\n",
       "    }\n",
       "</style>\n",
       "<table border=\"1\" class=\"dataframe\">\n",
       "  <thead>\n",
       "    <tr style=\"text-align: right;\">\n",
       "      <th></th>\n",
       "      <th>producto</th>\n",
       "      <th>ingredientes</th>\n",
       "    </tr>\n",
       "  </thead>\n",
       "  <tbody>\n",
       "    <tr>\n",
       "      <th>0</th>\n",
       "      <td>Producto A</td>\n",
       "      <td>[patata, harina de arroz, aceite de girasol]</td>\n",
       "    </tr>\n",
       "    <tr>\n",
       "      <th>1</th>\n",
       "      <td>Producto B</td>\n",
       "      <td>[agua, azúcar, colorante artificial, saborizante]</td>\n",
       "    </tr>\n",
       "    <tr>\n",
       "      <th>2</th>\n",
       "      <td>Producto C</td>\n",
       "      <td>[harina de trigo, sal, levadura, agua]</td>\n",
       "    </tr>\n",
       "  </tbody>\n",
       "</table>\n",
       "</div>"
      ],
      "text/plain": [
       "     producto                                       ingredientes\n",
       "0  Producto A       [patata, harina de arroz, aceite de girasol]\n",
       "1  Producto B  [agua, azúcar, colorante artificial, saborizante]\n",
       "2  Producto C             [harina de trigo, sal, levadura, agua]"
      ]
     },
     "execution_count": 16,
     "metadata": {},
     "output_type": "execute_result"
    }
   ],
   "source": [
    "df1"
   ]
  },
  {
   "cell_type": "code",
   "execution_count": null,
   "metadata": {},
   "outputs": [],
   "source": []
  }
 ],
 "metadata": {
  "kernelspec": {
   "display_name": "Python 3",
   "language": "python",
   "name": "python3"
  },
  "language_info": {
   "codemirror_mode": {
    "name": "ipython",
    "version": 3
   },
   "file_extension": ".py",
   "mimetype": "text/x-python",
   "name": "python",
   "nbconvert_exporter": "python",
   "pygments_lexer": "ipython3",
   "version": "3.10.6"
  },
  "orig_nbformat": 4
 },
 "nbformat": 4,
 "nbformat_minor": 2
}
